{
  "nbformat": 4,
  "nbformat_minor": 0,
  "metadata": {
    "colab": {
      "name": "Copy of autoencoder",
      "provenance": [],
      "collapsed_sections": []
    },
    "kernelspec": {
      "display_name": "Python 3",
      "name": "python3"
    }
  },
  "cells": [
    {
      "cell_type": "code",
      "metadata": {
        "id": "XMDzwbcTuUFI"
      },
      "source": [
        "import os\n",
        "path = os.getcwd()"
      ],
      "execution_count": null,
      "outputs": []
    },
    {
      "cell_type": "code",
      "metadata": {
        "id": "SRjP5RRWuVdQ"
      },
      "source": [
        "from os import listdir\n",
        "from os.path import isfile, join \n",
        "onlyfiles = [f for f in listdir(path) if isfile(join(path, f))]"
      ],
      "execution_count": null,
      "outputs": []
    },
    {
      "cell_type": "code",
      "metadata": {
        "id": "55WzPTUA58ib"
      },
      "source": [
        "import matplotlib.pyplot as plt\n",
        "import numpy as np\n",
        "import tensorflow as tf\n",
        "from tensorflow.keras.models import Model, Sequential\n",
        "from tensorflow.keras.layers import Dense\n",
        "import pandas as pd\n",
        "import random\n",
        "from sklearn.preprocessing import StandardScaler\n",
        "\n",
        "for file_name in onlyfiles:\n",
        "  #Import data\n",
        "  df = pd.read_csv(file_name)\n",
        "  #df = df.rename(columns = {'default payment next month': 'Default'})\n",
        "  print(df.shape)\n",
        "  x_train =np.array(df)\n",
        "  # This is the dimension of the original space\n",
        "  input_dim = 82\n",
        "\n",
        "  # This is the dimension of the latent space (encoding space)\n",
        "  latent_dim = 10\n",
        "\n",
        "  encoder = Sequential([\n",
        "      #Dense(128, activation='relu', input_shape=(input_dim,)),\n",
        "      #Dense(64, activation='relu'),\n",
        "      #Dense(32, activation='relu'),\n",
        "      #Dense(latent_dim, activation='relu')\n",
        "\n",
        "      #Dense(64, activation='linear', input_shape=(input_dim,)),\n",
        "      #Dense(32, activation='linear'),\n",
        "      #Dense(latent_dim, activation='linear')\n",
        "\n",
        "      #Dense(64, activation='relu', input_shape=(input_dim,)),\n",
        "      #Dense(32, activation='relu'),\n",
        "      #Dense(latent_dim, activation='relu')\n",
        "\n",
        "      #Dense(64, activation='relu', input_shape=(input_dim,)),\n",
        "      #Dense(32, activation='selu'),\n",
        "      #Dense(latent_dim, activation='selu')\n",
        "\n",
        "      Dense(latent_dim, activation=None, input_shape=(input_dim,)),\n",
        "      \n",
        "      #Dense(latent_dim, activation='linear', input_shape=(input_dim,)),\n",
        "  ])\n",
        "\n",
        "  decoder = Sequential([\n",
        "      #Dense(64, activation='relu', input_shape=(latent_dim,)),\n",
        "      #Dense(128, activation='relu'),\n",
        "      #Dense(256, activation='relu'),\n",
        "      #Dense(input_dim, activation=None)\n",
        "\n",
        "      #Dense(32, activation='linear', input_shape=(latent_dim,)),\n",
        "      #Dense(64, activation='linear'),\n",
        "      #Dense(input_dim, activation=None)\n",
        "\n",
        "      # Dense(32, activation='relu', input_shape=(latent_dim,)),\n",
        "      # Dense(64, activation='relu'),\n",
        "      # Dense(input_dim, activation=None)\n",
        "\n",
        "      #Dense(32, activation='selu', input_shape=(latent_dim,)),\n",
        "      #Dense(64, activation='selu'),\n",
        "      #Dense(input_dim, activation='relu')\n",
        "      \n",
        "      Dense(input_dim, activation=None, input_shape=(latent_dim,)),\n",
        "\n",
        "      #Dense(input_dim, activation='linear', input_shape=(latent_dim,)),\n",
        "  ])\n",
        "  autoencoder = Model(inputs=encoder.input, outputs=decoder(encoder.output))\n",
        "  autoencoder.compile(loss='mse', optimizer='adam') # 'SGD'\n",
        "  model_history = autoencoder.fit(x_train, x_train, epochs=60, batch_size=32, verbose=0) #5000\n",
        "  #plt.plot(model_history.history[\"loss\"])\n",
        "  #plt.title(\"Loss vs. Epoch\")\n",
        "  #plt.ylabel(\"Loss\")\n",
        "  #plt.xlabel(\"Epoch\")\n",
        "  #plt.grid(True)\n",
        "  encoded_x_train = encoder(x_train)\n",
        "  print(encoded_x_train.shape)\n",
        "  print(np.array(encoded_x_train)[0])\n",
        "  stacked = pd.DataFrame(np.array(encoded_x_train))\n",
        "  stacked.to_csv(file_name[:-4]+'auto.csv', index=False)"
      ],
      "execution_count": null,
      "outputs": []
    },
    {
      "cell_type": "code",
      "metadata": {
        "id": "ylVY3Shb58lC"
      },
      "source": [
        ""
      ],
      "execution_count": null,
      "outputs": []
    }
  ]
}